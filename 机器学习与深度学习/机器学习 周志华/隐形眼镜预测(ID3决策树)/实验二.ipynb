{
 "cells": [
  {
   "cell_type": "markdown",
   "metadata": {},
   "source": [
    "实验二 隐形眼镜类型的预测\n",
    "\n",
    "实验目标\n",
    "\n",
    "1 理解信息熵和信息增益的概念。\n",
    "\n",
    "2 掌握使用信息增益方法选取划分属性的方法。\n",
    "\n",
    "3 理解决策树的表示方法。\n",
    "\n",
    "4 掌握创建决策树的递归算法。\n",
    "\n",
    "实验内容\n",
    "\n",
    "使用现成的隐形眼镜数据集，使用决策树模拟眼科医生如何判断患者需要佩戴的镜片类型。具体包括以下参考步骤：\n",
    "\n",
    "1 导入隐形眼镜数据集，并分为训练集和验证集。\n",
    "\n",
    "2 编写程序实现信息熵的计算、划分属性的选择以及数据集的划分等过程。\n",
    "\n",
    "3 编程实现决策树的创建。\n",
    "\n",
    "4 编程实现利用决策树进行决策的方法。\n",
    "\n",
    "5 选取合适的评价指标对决策结果进行评价。\n",
    "\n",
    "6 选做：输出决策树树形。\n",
    "\n",
    "3  实验目标\n",
    "\n",
    "1 针对实验内容，梳理实验步骤、划分实验模块。\n",
    "\n",
    "2 分析每个实验模块，完成对应模块的代码编写（含注释）和调试。\n",
    "\n",
    "3 显示实验结果，并对实验结果进行对比分析，最后总结实验结果。\n",
    "\n",
    "4 以实验笔记的形式撰写实验报告，可以包括实验内容，实验平台，采用的算法原理（简要介绍），采用的数据集，采用的评价指标，实验步骤，实验结果展示，实验比较与分析，实验总结，以及心得体会等等。\n"
   ]
  },
  {
   "cell_type": "code",
   "execution_count": 403,
   "metadata": {},
   "outputs": [],
   "source": [
    "import numpy as np\n",
    "from math import log\n",
    "import operator\n",
    "import matplotlib.pyplot as plt\n",
    "import pandas as pd\n",
    "from sklearn.model_selection import train_test_split\n",
    "\n",
    "lensesLabels = ['age', 'prescript', 'astigmatic', 'tearRate']"
   ]
  },
  {
   "cell_type": "code",
   "execution_count": 404,
   "metadata": {},
   "outputs": [],
   "source": [
    "# 计算给定数据集的香农熵\n",
    "def calcShannonEnt(dataSet):\n",
    "    # 获取数据集的样本数量\n",
    "    numEntries = len(dataSet)\n",
    "    # 定义一个字典，用于存储每个类别的出现次数\n",
    "    labelCounts = {}\n",
    "    # 对数据集的每一行进行遍历\n",
    "    for featVec in dataSet:\n",
    "        currentLabel = featVec[-1]  # 最后一行是label,获取当前样本的类别标签\n",
    "        \n",
    "        # 初始化，将当前类别标签加入字典\n",
    "        if currentLabel not in labelCounts.keys():\n",
    "            labelCounts[currentLabel] = 0\n",
    "        labelCounts[currentLabel] += 1  # 统计当前类别标签的数量\n",
    "    ShannonEnt = 0.0\n",
    "    # 计算香农熵\n",
    "    for key in labelCounts:\n",
    "        prob = float(labelCounts[key]) / numEntries  # 计算当前类别的概率\n",
    "        ShannonEnt -= prob * log(prob, 2)  # 利用信息熵的公式进行累加计算\n",
    "    return ShannonEnt"
   ]
  },
  {
   "cell_type": "code",
   "execution_count": 405,
   "metadata": {},
   "outputs": [],
   "source": [
    "#按照给定的特征 划分数据集\n",
    "def splitDataSet(dataSet, axis, value):\n",
    "    retDataSet = []\n",
    "    for featVec in dataSet:\n",
    "        if featVec[axis] == value: #将符合特征的数据抽取出来\n",
    "            reducedFeatVec = featVec[:axis]#截取从0到选定的axis的各项分类信息\n",
    "            reducedFeatVec.extend(featVec[axis+1:])\n",
    "            retDataSet.append(reducedFeatVec)#重组一个新的dataset\n",
    "    return retDataSet"
   ]
  },
  {
   "cell_type": "code",
   "execution_count": 406,
   "metadata": {},
   "outputs": [],
   "source": [
    "#选取最好的数据集划分方式\n",
    "def chooseBestFeatureToSplit(dataSet):\n",
    "    numFeatures = len(dataSet[0]) -1#dataset[0] 代表索引为0的的第一行数据\n",
    "    baseEntropy = calcShannonEnt(dataSet)#整个数据集的香农熵\n",
    "    bestInfoGain = 0.0;#初始化\n",
    "    bestFeature = -1\n",
    "    for i in range(numFeatures):#循环遍历所有特征\n",
    "        featList = [example[i] for example in dataSet] #先提取一行dataSet的数据，然后取该行数据的第“ i ”位元素。然后遍历每一行，最后获得一整列数据，变为一个列表list。\n",
    "        uniqueVals = set(featList) #set()创建一个无序不重复元素集\n",
    "        newEntropy = 0.0\n",
    "        for value in uniqueVals: #计算每种划分方式的信息熵\n",
    "            subDataSet = splitDataSet(dataSet, i, value)\n",
    "            prob = len(subDataSet) / float(len(dataSet))\n",
    "            newEntropy += prob*calcShannonEnt(subDataSet)\n",
    "        infoGain = baseEntropy - newEntropy#信息增益是熵的减少或者是数据无序度的减少\n",
    "        if(infoGain > bestInfoGain): #计算最好的信息增益\n",
    "            bestInfoGain = infoGain\n",
    "            bestFeature = i\n",
    "    \n",
    "    return bestFeature,bestInfoGain"
   ]
  },
  {
   "cell_type": "code",
   "execution_count": 407,
   "metadata": {},
   "outputs": [],
   "source": [
    "#如果数据集已经处理了所有属性，但是类标签依旧不唯一，则采用多数表决的方法决定叶子节点的分类\n",
    "def majorityCount(classList):\n",
    "    classCount = {} #创建键值为ClassList中唯一值的数据字典，字典对象储存了classList中每个类标签出现的频率，最后利用operator操作键值排序字典\n",
    "    for vote in classList:\n",
    "        if vote not in classCount.keys():\n",
    "            classCount[vote] = 0\n",
    "        classCount[vote] += 1\n",
    "    sortedClassCount = sorted(classCount.items(), key=operator.itemgetter(1), reverse=True)#key=operator.itemgetter(1) 即获取对象的第1个域的值，即统计数\n",
    "    return sortedClassCount[0][0]"
   ]
  },
  {
   "cell_type": "code",
   "execution_count": 408,
   "metadata": {},
   "outputs": [],
   "source": [
    "#利用数据集和标签列表创建树\n",
    "def createTree(dataSet,  labels):\n",
    "    classList = [example[-1] for example in dataSet] #取最后一列\n",
    "    if classList.count(classList[0]) == len(classList): #list自带的count函数，来统计list中每个元素出现的次数，如果类别完全相同则停止继续划分\n",
    "        return classList[0]\n",
    "    if len(dataSet[0]) == 1: #特征属性用完了但是还没有完全分开，多数表决\n",
    "        return majorityCount(classList)\n",
    "    bestFeat,bestInfoGain = chooseBestFeatureToSplit(dataSet)\n",
    "    print(f\"数据集的信息熵是{calcShannonEnt(dataSet)},数据集长度为{len(dataSet)}\")\n",
    "    print(f\"最好的特征是{lensesLabels[bestFeat]},信息增益是{bestInfoGain}\")\n",
    "\n",
    "    bestFeatLabel = labels[bestFeat]\n",
    "    myTree = {bestFeatLabel:{}}#初始化# 注：labels列表是可变对象，在PYTHON函数中作为参数时传址引用，能够被全局修改\n",
    "    # 所以这行代码导致函数外的同名变量被删除了元素，造成例句无法执行，提示'no surfacing' is not in list\n",
    "    del(labels[bestFeat]) #del删除的是变量，而不是数据，当前数据集选取的最好特征存储在变量bestFeat中\n",
    "    featValues = [example[bestFeat] for example in dataSet] #得到列表包含的所有属性值\n",
    "    uniqueVals = set(featValues)\n",
    "    for value in uniqueVals:#在每个数据集划分上递归调用函数createTree()\n",
    "        subLabels = labels[:]\n",
    "        myTree[bestFeatLabel][value] = createTree(splitDataSet(dataSet, bestFeat,value), subLabels)#递归调用\n",
    "    return myTree"
   ]
  },
  {
   "cell_type": "code",
   "execution_count": 409,
   "metadata": {},
   "outputs": [],
   "source": [
    "#绘制带箭头的注解\n",
    "def plotNode(nodeTxt, centerPt, parentPt, nodeType):\n",
    "    createPlot.ax1.annotate(nodeTxt, xy=parentPt, xycoords='axes fraction', xytext=centerPt, textcoords='axes fraction',\n",
    "                            va='center', ha='center', bbox=nodeType, arrowprops=arrow_args)\n",
    "\n",
    "decisionNode = dict(boxstyle=\"sawtooth\", fc=\"cornflowerblue\")\n",
    "leafNode = dict(boxstyle=\"round4\", fc=\"lightblue\")\n",
    "arrow_args = dict(arrowstyle=\"<-\",linewidth=2)"
   ]
  },
  {
   "cell_type": "code",
   "execution_count": 410,
   "metadata": {},
   "outputs": [],
   "source": [
    "#创建绘图区，计算树形图的全局尺寸\n",
    "def createPlot(inTree):\n",
    "    plt.rcParams['font.sans-serif'] = ['SimHei']\n",
    "    fig = plt.figure(1, facecolor='white')\n",
    "    fig.clf()\n",
    "    axprops = dict(xticks=[], yticks=[])\n",
    "    createPlot.ax1 = plt.subplot(111, frameon = False, **axprops)    #no ticks\n",
    "    plotTree.totalW = float(getNumLeafs(inTree))\n",
    "    plotTree.totalD = float(getTreeDepth(inTree))\n",
    "    plotTree.xOff = -0.5/plotTree.totalW\n",
    "    plotTree.yOff = 1.0\n",
    "    plotTree(inTree, (0.5,1.0), '')\n",
    "    plt.show()"
   ]
  },
  {
   "cell_type": "code",
   "execution_count": 411,
   "metadata": {},
   "outputs": [],
   "source": [
    "#获取叶节点的数目\n",
    "def getNumLeafs(myTree):#遍历整棵树，累计叶子节点的个数，并返回该数值，dick.keys()以列表返回一个字典所有的键\n",
    "    numLeafs = 0\n",
    "    firstStr = list(myTree.keys())[0]#书错 TypeError: 'dict_keys' object does not support indexing,返回的是dict_keys对象,支持iterable 但不支持indexable，我们可以将其明确的转化成list\n",
    "    secondDict = myTree[firstStr]\n",
    "    for key in secondDict.keys():\n",
    "        if type(secondDict[key]).__name__ == 'dict':#测试节点数据类型是否为字典\n",
    "            numLeafs += getNumLeafs(secondDict[key])\n",
    "        else:\n",
    "            numLeafs += 1\n",
    "    return numLeafs"
   ]
  },
  {
   "cell_type": "code",
   "execution_count": 412,
   "metadata": {},
   "outputs": [],
   "source": [
    "#获取树的层数\n",
    "def getTreeDepth(myTree):\n",
    "    depth = 0.0\n",
    "    firstStr = list(myTree.keys())[0]\n",
    "    secondDict = myTree[firstStr]\n",
    "    for key in secondDict.keys():\n",
    "        if type(secondDict[key]).__name__ == 'dict':\n",
    "            thisDepth = 1 + getTreeDepth(secondDict[key])\n",
    "        else:\n",
    "            thisDepth = 1\n",
    "        if thisDepth > depth:\n",
    "            depth = thisDepth\n",
    "    return depth"
   ]
  },
  {
   "cell_type": "code",
   "execution_count": 413,
   "metadata": {},
   "outputs": [],
   "source": [
    "#标注有向边属性\n",
    "def plotMidText(cntrPt, parentPt, txtString):\n",
    "    xMid = (parentPt[0]-cntrPt[0])/2.0 + cntrPt[0]#children point\n",
    "    yMid = (parentPt[1]-cntrPt[1])/2.0 + cntrPt[1]\n",
    "    createPlot.ax1.text(xMid, yMid, txtString, va=\"center\", ha=\"center\", rotation=30)"
   ]
  },
  {
   "cell_type": "code",
   "execution_count": 414,
   "metadata": {},
   "outputs": [],
   "source": [
    "def plotTree(myTree, parentPt, nodeTxt):\n",
    "    # 获取当前树的叶节点数和深度\n",
    "    numLeafs = getNumLeafs(myTree)\n",
    "    depth = getTreeDepth(myTree)\n",
    "    # 获取当前树的根节点信息\n",
    "    firstStr = list(myTree.keys())[0]\n",
    "    print(f\"当前属性是:{firstStr}\")\n",
    "    # 计算当前节点在 x 轴上的位置\n",
    "    cntrPt = (plotTree.xOff + (1.0 + float(numLeafs)) / 2.0 / plotTree.totalW, plotTree.yOff)\n",
    "    # 在箭头中间位置添加文本信息\n",
    "    plotMidText(cntrPt, parentPt, nodeTxt)\n",
    "    # 绘制当前节点\n",
    "    plotNode(firstStr, cntrPt, parentPt, decisionNode)\n",
    "    # 获取当前节点的子节点信息\n",
    "    secondDict = myTree[firstStr]\n",
    "    # 更新 y 轴的偏移量\n",
    "    plotTree.yOff = plotTree.yOff - 1.0 / plotTree.totalD\n",
    "    # 遍历子节点\n",
    "    for key in secondDict.keys():\n",
    "        print(f\"对于当前属性若取值为:{str(key)}\")\n",
    "        if type(secondDict[key]).__name__ == 'dict':  # 判断子节点是否为字典，如果是则继续递归\n",
    "            print(\"则进一步进行划分,\")\n",
    "            plotTree(secondDict[key], cntrPt, str(key))  # 递归调用\n",
    "        else:  # 如果是叶节点，则绘制叶节点，并在箭头上添加文本信息\n",
    "            plotTree.xOff = plotTree.xOff + 1.0 / plotTree.totalW\n",
    "            plotNode(secondDict[key], (plotTree.xOff, plotTree.yOff), cntrPt, leafNode)\n",
    "            print(f\"则抵达叶节点,对隐形眼镜的分类是:{str(secondDict[key])}\")\n",
    "            plotMidText((plotTree.xOff, plotTree.yOff), cntrPt, str(key))\n",
    "    # 恢复 y 轴的偏移量\n",
    "    plotTree.yOff = plotTree.yOff + 1.0 / plotTree.totalD"
   ]
  },
  {
   "cell_type": "code",
   "execution_count": 415,
   "metadata": {},
   "outputs": [],
   "source": [
    "def classify_lenses(tree, test_sample):\n",
    "    \"\"\"\n",
    "    对测试样本进行分类\n",
    "    :param tree: 决策树字典\n",
    "    :param test_sample: 测试样本\n",
    "    :return: 分类结果\n",
    "    \"\"\"\n",
    "    if not isinstance(tree, dict):\n",
    "        # 如果 tree 不是字典，表示已经是叶节点，返回叶节点值\n",
    "        return tree\n",
    "    root_label = list(tree.keys())[0]\n",
    "    \n",
    "    # 获取测试样本中根节点特征的取值\n",
    "    root_value = test_sample[lensesLabels.index(root_label)]\n",
    "    if root_value not in tree[root_label]:\n",
    "        # 如果测试样本中的值在决策树中没有对应的分支，则返回默认值\n",
    "        return 'unknown'\n",
    "    \n",
    "    next_branch = tree[root_label][root_value]\n",
    "    return classify_lenses(next_branch, test_sample)"
   ]
  },
  {
   "cell_type": "code",
   "execution_count": 416,
   "metadata": {},
   "outputs": [],
   "source": [
    "# 从 lenses.txt 读取数据\n",
    "fr = open('lenses.txt')\n",
    "lenses = [inst.strip().split('\\t') for inst in fr.readlines()]\n",
    "lensesLabels = ['age', 'prescript', 'astigmatic', 'tearRate', 'label']"
   ]
  },
  {
   "cell_type": "code",
   "execution_count": 417,
   "metadata": {},
   "outputs": [
    {
     "name": "stdout",
     "output_type": "stream",
     "text": [
      "数据集的信息熵是1.0529815751302694,数据集长度为15\n",
      "最好的特征是tearRate,信息增益是0.3768676117918498\n",
      "数据集的信息熵是1.4488156357251847,数据集长度为7\n",
      "最好的特征是age,信息增益是0.6617049208213366\n",
      "数据集的信息熵是0.9182958340544896,数据集长度为3\n",
      "最好的特征是age,信息增益是0.2516291673878229\n",
      "数据集的信息熵是1.0,数据集长度为2\n",
      "最好的特征是age,信息增益是1.0\n",
      "数据集的信息熵是0.9182958340544896,数据集长度为3\n",
      "最好的特征是prescript,信息增益是0.9182958340544896\n"
     ]
    }
   ],
   "source": [
    "# 将数据转换为 DataFrame\n",
    "df = pd.DataFrame(lenses, columns=lensesLabels)\n",
    "\n",
    "# 将数据集划分为特征和标签\n",
    "X = df.iloc[:, :-1]  # 特征\n",
    "y = df.iloc[:, -1]   # 标签\n",
    "\n",
    "# 将数据集划分为训练集和测试集\n",
    "X_train, X_test, y_train, y_test = train_test_split(X, y, test_size=0.35, random_state=42)\n",
    "\n",
    "# 将特征和标签重新转换为列表\n",
    "train_data = pd.concat([X_train, y_train], axis=1).values.tolist()\n",
    "test_data = pd.concat([X_test, y_test], axis=1).values.tolist()\n",
    "\n",
    "# 使用训练数据创建决策树\n",
    "myTree_lenses = createTree(train_data, lensesLabels)\n",
    "lensesLabels = ['age', 'prescript', 'astigmatic', 'tearRate']"
   ]
  },
  {
   "cell_type": "code",
   "execution_count": 418,
   "metadata": {},
   "outputs": [
    {
     "name": "stdout",
     "output_type": "stream",
     "text": [
      "当前属性是:tearRate\n",
      "对于当前属性若取值为:normal\n",
      "则进一步进行划分,\n",
      "当前属性是:age\n",
      "对于当前属性若取值为:presbyopic\n",
      "则进一步进行划分,\n",
      "当前属性是:prescript\n",
      "对于当前属性若取值为:myope\n",
      "则进一步进行划分,\n",
      "当前属性是:astigmatic\n",
      "对于当前属性若取值为:yes\n",
      "则抵达叶节点,对隐形眼镜的分类是:hard\n",
      "对于当前属性若取值为:no\n",
      "则抵达叶节点,对隐形眼镜的分类是:no lenses\n",
      "对于当前属性若取值为:hyper\n",
      "则抵达叶节点,对隐形眼镜的分类是:no lenses\n",
      "对于当前属性若取值为:pre\n",
      "则抵达叶节点,对隐形眼镜的分类是:no lenses\n",
      "对于当前属性若取值为:young\n",
      "则进一步进行划分,\n",
      "当前属性是:astigmatic\n",
      "对于当前属性若取值为:yes\n",
      "则抵达叶节点,对隐形眼镜的分类是:hard\n",
      "对于当前属性若取值为:no\n",
      "则抵达叶节点,对隐形眼镜的分类是:soft\n",
      "对于当前属性若取值为:reduced\n",
      "则抵达叶节点,对隐形眼镜的分类是:no lenses\n"
     ]
    },
    {
     "data": {
      "image/png": "[encoded data removed]",
      "text/plain": [
       "<Figure size 640x480 with 1 Axes>"
      ]
     },
     "metadata": {},
     "output_type": "display_data"
    }
   ],
   "source": [
    "createPlot(myTree_lenses)"
   ]
  },
  {
   "cell_type": "code",
   "execution_count": 419,
   "metadata": {},
   "outputs": [
    {
     "name": "stdout",
     "output_type": "stream",
     "text": [
      "第1个测试样本的真实标签: no lenses, 预测标签: no lenses\n",
      "第2个测试样本的真实标签: no lenses, 预测标签: no lenses\n",
      "第3个测试样本的真实标签: no lenses, 预测标签: no lenses\n",
      "第4个测试样本的真实标签: no lenses, 预测标签: no lenses\n",
      "第5个测试样本的真实标签: no lenses, 预测标签: no lenses\n",
      "第6个测试样本的真实标签: hard, 预测标签: hard\n",
      "第7个测试样本的真实标签: no lenses, 预测标签: no lenses\n",
      "第8个测试样本的真实标签: soft, 预测标签: no lenses\n",
      "第9个测试样本的真实标签: no lenses, 预测标签: no lenses\n",
      "第10个测试样本的真实标签: no lenses, 预测标签: no lenses\n",
      "精度为:0.9\n"
     ]
    }
   ],
   "source": [
    "# 读取测试数据\n",
    "test_file = open('test_data.txt')\n",
    "test_data = [inst.strip().split('\\t') for inst in test_file.readlines()]\n",
    "count=0\n",
    "predict_true=0\n",
    "# 测试每个样本\n",
    "for sample in test_data:\n",
    "    count+=1\n",
    "    # 获取样本的真实标签\n",
    "    true_label = sample[-1]\n",
    "    # 使用训练好的决策树进行分类\n",
    "    predicted_label = classify_lenses(myTree_lenses, sample[:-1])\n",
    "    if(true_label==predicted_label):\n",
    "        predict_true+=1\n",
    "    # 输出预测结果\n",
    "    print(f\"第{count}个测试样本的真实标签: {true_label}, 预测标签: {predicted_label}\")\n",
    "print(f\"精度为:{predict_true/count}\")"
   ]
  }
 ],
 "metadata": {
  "kernelspec": {
   "display_name": "base",
   "language": "python",
   "name": "python3"
  },
  "language_info": {
   "codemirror_mode": {
    "name": "ipython",
    "version": 3
   },
   "file_extension": ".py",
   "mimetype": "text/x-python",
   "name": "python",
   "nbconvert_exporter": "python",
   "pygments_lexer": "ipython3",
   "version": "3.9.12"
  }
 },
 "nbformat": 4,
 "nbformat_minor": 2
}
